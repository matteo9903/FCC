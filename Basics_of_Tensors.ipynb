{
  "nbformat": 4,
  "nbformat_minor": 0,
  "metadata": {
    "colab": {
      "provenance": [],
      "gpuType": "T4",
      "authorship_tag": "ABX9TyM6NuuDKws45BEaqj4EASAo",
      "include_colab_link": true
    },
    "kernelspec": {
      "name": "python3",
      "display_name": "Python 3"
    },
    "language_info": {
      "name": "python"
    },
    "accelerator": "GPU"
  },
  "cells": [
    {
      "cell_type": "markdown",
      "metadata": {
        "id": "view-in-github",
        "colab_type": "text"
      },
      "source": [
        "<a href=\"https://colab.research.google.com/github/matteo9903/FCC/blob/main/Basics_of_Tensors.ipynb\" target=\"_parent\"><img src=\"https://colab.research.google.com/assets/colab-badge.svg\" alt=\"Open In Colab\"/></a>"
      ]
    },
    {
      "cell_type": "markdown",
      "source": [
        "Un tensore è un **array con spedifiche dimensioni**\n",
        "\n",
        "\n",
        "*   O-D --> **6** (semplice numero)\n",
        "*   1-D --> **[1 0 -2]** (array)\n",
        "*   2-D --> **MATRICE** (raggruppamento di tensori 1-D)  --> righe/colonne\n",
        "*   3-D --> estensioni nella terza dimensione dei tensori 2-D\n",
        "\n"
      ],
      "metadata": {
        "id": "UEqqSnpXFzQN"
      }
    },
    {
      "cell_type": "markdown",
      "source": [
        "1-D = [1 0 -2]  --> dimensioni (3,)<br>\n",
        "2-D = dimensioni (4,3) <br>| 1  2  0 |<br>\n",
        "      | 0  4 -2 |<br>\n",
        "      | 2  3  8 |<br>\n",
        "      | 4  5  1 |<br><br>\n",
        "3-D = es. (3,3,2) --> secondo e terzo numero sono le dimensioni delle matrici, il primo sono il loro numero"
      ],
      "metadata": {
        "id": "t6i3bNR5GY6X"
      }
    },
    {
      "cell_type": "code",
      "source": [
        "# IN COLAB NON SERVE INSTALLARE PACCHETTI\n",
        "import tensorflow as tf"
      ],
      "metadata": {
        "id": "NHrteB5sHU-N"
      },
      "execution_count": 1,
      "outputs": []
    },
    {
      "cell_type": "code",
      "source": [
        "tensor_0d = tf.constant(3)\n",
        "tensor_0d\n",
        "# non ho shape ed è di tipo int32"
      ],
      "metadata": {
        "colab": {
          "base_uri": "https://localhost:8080/"
        },
        "id": "ERSO4aiJH9-r",
        "outputId": "c075b412-d9fd-4a06-b813-54e34eb8e265"
      },
      "execution_count": 2,
      "outputs": [
        {
          "output_type": "execute_result",
          "data": {
            "text/plain": [
              "<tf.Tensor: shape=(), dtype=int32, numpy=3>"
            ]
          },
          "metadata": {},
          "execution_count": 2
        }
      ]
    },
    {
      "cell_type": "code",
      "source": [
        "tensor_1d = tf.constant([1,0.,-2])\n",
        "tensor_1d\n",
        "# vedo dimensione come ci si aspetta e tipo di contenuto (int, float...)"
      ],
      "metadata": {
        "colab": {
          "base_uri": "https://localhost:8080/"
        },
        "id": "lrUAx0n2H97M",
        "outputId": "2bb728a2-2004-4318-b70d-cb8c3eb883dd"
      },
      "execution_count": 4,
      "outputs": [
        {
          "output_type": "execute_result",
          "data": {
            "text/plain": [
              "<tf.Tensor: shape=(3,), dtype=float32, numpy=array([ 1.,  0., -2.], dtype=float32)>"
            ]
          },
          "metadata": {},
          "execution_count": 4
        }
      ]
    },
    {
      "cell_type": "code",
      "source": [
        "tensor_2d = tf.constant([[1,2,0],[0,4.1,-2],[2,3,8],[4,5,1]])\n",
        "tensor_2d\n",
        "# ho tensori 1D che raggruppati ne formano uno 2D"
      ],
      "metadata": {
        "colab": {
          "base_uri": "https://localhost:8080/"
        },
        "id": "P7U52O8KH94U",
        "outputId": "3b356cad-3f68-49b7-ebdb-6a0ebe4727e8"
      },
      "execution_count": 11,
      "outputs": [
        {
          "output_type": "execute_result",
          "data": {
            "text/plain": [
              "<tf.Tensor: shape=(4, 3), dtype=float32, numpy=\n",
              "array([[ 1. ,  2. ,  0. ],\n",
              "       [ 0. ,  4.1, -2. ],\n",
              "       [ 2. ,  3. ,  8. ],\n",
              "       [ 4. ,  5. ,  1. ]], dtype=float32)>"
            ]
          },
          "metadata": {},
          "execution_count": 11
        }
      ]
    },
    {
      "cell_type": "code",
      "source": [
        "tensor_3d = tf.constant([[[1,2,5],[3,4,6]],[[5,6,7],[7,8,9]]])\n",
        "tensor_3d\n",
        "# ho tensori 2D che ne formano uno 3D estendendosi nella terza dimensione"
      ],
      "metadata": {
        "colab": {
          "base_uri": "https://localhost:8080/"
        },
        "id": "wGuXzhq2H9zD",
        "outputId": "6d7c559d-cd60-4a4d-844d-e8339d743bf3"
      },
      "execution_count": 8,
      "outputs": [
        {
          "output_type": "execute_result",
          "data": {
            "text/plain": [
              "<tf.Tensor: shape=(2, 2, 3), dtype=int32, numpy=\n",
              "array([[[1, 2, 5],\n",
              "        [3, 4, 6]],\n",
              "\n",
              "       [[5, 6, 7],\n",
              "        [7, 8, 9]]], dtype=int32)>"
            ]
          },
          "metadata": {},
          "execution_count": 8
        }
      ]
    },
    {
      "cell_type": "code",
      "source": [
        "# posso stmpare dimensioni di ciascun tensore\n",
        "print(tensor_0d.shape)  # 0D\n",
        "print(tensor_1d.shape)  # 1D\n",
        "print(tensor_2d.shape)  # 2D\n",
        "print(tensor_3d.shape)   # 3D"
      ],
      "metadata": {
        "colab": {
          "base_uri": "https://localhost:8080/"
        },
        "id": "EmuuFt72H9DM",
        "outputId": "fa54923f-1d76-4bd2-b3de-e356aa6ad9db"
      },
      "execution_count": 12,
      "outputs": [
        {
          "output_type": "stream",
          "name": "stdout",
          "text": [
            "()\n",
            "(3,)\n",
            "(4, 3)\n",
            "(2, 2, 3)\n"
          ]
        }
      ]
    },
    {
      "cell_type": "markdown",
      "source": [
        "può anche esistere un **tensore 4-D** formato da tensori 3-D \"impilati\" uno sull'altro"
      ],
      "metadata": {
        "id": "AHGRSuLdJ5WA"
      }
    },
    {
      "cell_type": "code",
      "source": [
        "tensor_4d = tf.constant([[[[1,2,5],[3,4,6]],[[5,6,7],[7,8,9]]],\n",
        " [[[9,8,7],[2,3,1]],[[10.2,0,-1],[7,4,9]]]])\n",
        "tensor_4d"
      ],
      "metadata": {
        "colab": {
          "base_uri": "https://localhost:8080/"
        },
        "id": "wDkvVkelKBSV",
        "outputId": "e28f413c-531b-4f9b-97da-deb7ea39aeb5"
      },
      "execution_count": 13,
      "outputs": [
        {
          "output_type": "execute_result",
          "data": {
            "text/plain": [
              "<tf.Tensor: shape=(2, 2, 2, 3), dtype=float32, numpy=\n",
              "array([[[[ 1. ,  2. ,  5. ],\n",
              "         [ 3. ,  4. ,  6. ]],\n",
              "\n",
              "        [[ 5. ,  6. ,  7. ],\n",
              "         [ 7. ,  8. ,  9. ]]],\n",
              "\n",
              "\n",
              "       [[[ 9. ,  8. ,  7. ],\n",
              "         [ 2. ,  3. ,  1. ]],\n",
              "\n",
              "        [[10.2,  0. , -1. ],\n",
              "         [ 7. ,  4. ,  9. ]]]], dtype=float32)>"
            ]
          },
          "metadata": {},
          "execution_count": 13
        }
      ]
    },
    {
      "cell_type": "markdown",
      "source": [
        "in base alla tipologia di applicazioni e alle risorse disponibili, si può eventualmente cambiare il formato dei dati (es. float16 vs float32 vs float64).<br> Vedi *documentazione Python* per verificare i tipi di dati disponibili)"
      ],
      "metadata": {
        "id": "I2NY3i_-LIYt"
      }
    },
    {
      "cell_type": "code",
      "source": [
        " # posso anche specificare nell'intestazioni la tipolgoia di dato che voglio)\n",
        "tensor_1d = tf.constant([1, -3, 0, 7, 2], dtype=tf.float32)\n",
        "# tensor_1d = tf.constant([1, -3, 0, 7, 2], dtype=tf.float16)\n",
        "tensor_1d"
      ],
      "metadata": {
        "colab": {
          "base_uri": "https://localhost:8080/"
        },
        "id": "wPXD4YGhKzPV",
        "outputId": "8eac7571-a847-428a-baf2-aae047f3632e"
      },
      "execution_count": 14,
      "outputs": [
        {
          "output_type": "execute_result",
          "data": {
            "text/plain": [
              "<tf.Tensor: shape=(5,), dtype=float32, numpy=array([ 1., -3.,  0.,  7.,  2.], dtype=float32)>"
            ]
          },
          "metadata": {},
          "execution_count": 14
        }
      ]
    }
  ]
}