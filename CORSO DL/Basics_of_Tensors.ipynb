{
  "nbformat": 4,
  "nbformat_minor": 0,
  "metadata": {
    "colab": {
      "provenance": [],
      "gpuType": "T4",
      "authorship_tag": "ABX9TyO8GD0dr/XYC1TTtGn7YjPJ",
      "include_colab_link": true
    },
    "kernelspec": {
      "name": "python3",
      "display_name": "Python 3"
    },
    "language_info": {
      "name": "python"
    },
    "accelerator": "GPU"
  },
  "cells": [
    {
      "cell_type": "markdown",
      "metadata": {
        "id": "view-in-github",
        "colab_type": "text"
      },
      "source": [
        "<a href=\"https://colab.research.google.com/github/matteo9903/FCC/blob/main/CORSO%20DL/Basics_of_Tensors.ipynb\" target=\"_parent\"><img src=\"https://colab.research.google.com/assets/colab-badge.svg\" alt=\"Open In Colab\"/></a>"
      ]
    },
    {
      "cell_type": "markdown",
      "source": [
        "Un tensore è un **array con spedifiche dimensioni**\n",
        "\n",
        "\n",
        "*   O-D --> **6** (semplice numero)\n",
        "*   1-D --> **[1 0 -2]** (array)\n",
        "*   2-D --> **MATRICE** (raggruppamento di tensori 1-D)  --> righe/colonne\n",
        "*   3-D --> estensioni nella terza dimensione dei tensori 2-D\n",
        "\n"
      ],
      "metadata": {
        "id": "UEqqSnpXFzQN"
      }
    },
    {
      "cell_type": "markdown",
      "source": [
        "1-D = [1 0 -2]  --> dimensioni (3,)<br>\n",
        "2-D = dimensioni (4,3) <br>| 1  2  0 |<br>\n",
        "      | 0  4 -2 |<br>\n",
        "      | 2  3  8 |<br>\n",
        "      | 4  5  1 |<br><br>\n",
        "3-D = es. (3,3,2) --> secondo e terzo numero sono le dimensioni delle matrici, il primo sono il loro numero"
      ],
      "metadata": {
        "id": "t6i3bNR5GY6X"
      }
    },
    {
      "cell_type": "code",
      "source": [
        "# IN COLAB NON SERVE INSTALLARE PACCHETTI\n",
        "import tensorflow as tf"
      ],
      "metadata": {
        "id": "NHrteB5sHU-N"
      },
      "execution_count": 1,
      "outputs": []
    },
    {
      "cell_type": "code",
      "source": [
        "tensor_0d = tf.constant(3)\n",
        "tensor_0d\n",
        "# non ho shape ed è di tipo int32"
      ],
      "metadata": {
        "colab": {
          "base_uri": "https://localhost:8080/"
        },
        "id": "ERSO4aiJH9-r",
        "outputId": "82a9a993-2f58-4b22-8b64-a06fb13dfb86"
      },
      "execution_count": 2,
      "outputs": [
        {
          "output_type": "execute_result",
          "data": {
            "text/plain": [
              "<tf.Tensor: shape=(), dtype=int32, numpy=3>"
            ]
          },
          "metadata": {},
          "execution_count": 2
        }
      ]
    },
    {
      "cell_type": "code",
      "source": [
        "tensor_1d = tf.constant([1,0.,-2])\n",
        "tensor_1d\n",
        "# vedo dimensione come ci si aspetta e tipo di contenuto (int, float...)"
      ],
      "metadata": {
        "colab": {
          "base_uri": "https://localhost:8080/"
        },
        "id": "lrUAx0n2H97M",
        "outputId": "d9d3648f-52cd-4f1e-9a01-3956b3c22711"
      },
      "execution_count": 3,
      "outputs": [
        {
          "output_type": "execute_result",
          "data": {
            "text/plain": [
              "<tf.Tensor: shape=(3,), dtype=float32, numpy=array([ 1.,  0., -2.], dtype=float32)>"
            ]
          },
          "metadata": {},
          "execution_count": 3
        }
      ]
    },
    {
      "cell_type": "code",
      "source": [
        "tensor_2d = tf.constant([[1,2,0],[0,4.1,-2],[2,3,8],[4,5,1]])\n",
        "tensor_2d\n",
        "# ho tensori 1D che raggruppati ne formano uno 2D"
      ],
      "metadata": {
        "colab": {
          "base_uri": "https://localhost:8080/"
        },
        "id": "P7U52O8KH94U",
        "outputId": "9d07c573-6b75-463b-a9c8-7eebdc2d3138"
      },
      "execution_count": 4,
      "outputs": [
        {
          "output_type": "execute_result",
          "data": {
            "text/plain": [
              "<tf.Tensor: shape=(4, 3), dtype=float32, numpy=\n",
              "array([[ 1. ,  2. ,  0. ],\n",
              "       [ 0. ,  4.1, -2. ],\n",
              "       [ 2. ,  3. ,  8. ],\n",
              "       [ 4. ,  5. ,  1. ]], dtype=float32)>"
            ]
          },
          "metadata": {},
          "execution_count": 4
        }
      ]
    },
    {
      "cell_type": "code",
      "source": [
        "tensor_3d = tf.constant([[[1,2,5],[3,4,6]],[[5,6,7],[7,8,9]]])\n",
        "tensor_3d\n",
        "# ho tensori 2D che ne formano uno 3D estendendosi nella terza dimensione"
      ],
      "metadata": {
        "colab": {
          "base_uri": "https://localhost:8080/"
        },
        "id": "wGuXzhq2H9zD",
        "outputId": "712e97d6-567d-4d11-ee6e-c315294ba33f"
      },
      "execution_count": 5,
      "outputs": [
        {
          "output_type": "execute_result",
          "data": {
            "text/plain": [
              "<tf.Tensor: shape=(2, 2, 3), dtype=int32, numpy=\n",
              "array([[[1, 2, 5],\n",
              "        [3, 4, 6]],\n",
              "\n",
              "       [[5, 6, 7],\n",
              "        [7, 8, 9]]], dtype=int32)>"
            ]
          },
          "metadata": {},
          "execution_count": 5
        }
      ]
    },
    {
      "cell_type": "code",
      "source": [
        "# posso stmpare dimensioni di ciascun tensore\n",
        "print(tensor_0d.shape)  # 0D\n",
        "print(tensor_1d.shape)  # 1D\n",
        "print(tensor_2d.shape)  # 2D\n",
        "print(tensor_3d.shape)   # 3D"
      ],
      "metadata": {
        "colab": {
          "base_uri": "https://localhost:8080/"
        },
        "id": "EmuuFt72H9DM",
        "outputId": "ea1f2115-4207-4548-c134-a31e00fa262e"
      },
      "execution_count": 6,
      "outputs": [
        {
          "output_type": "stream",
          "name": "stdout",
          "text": [
            "()\n",
            "(3,)\n",
            "(4, 3)\n",
            "(2, 2, 3)\n"
          ]
        }
      ]
    },
    {
      "cell_type": "markdown",
      "source": [
        "può anche esistere un **tensore 4-D** formato da tensori 3-D \"impilati\" uno sull'altro"
      ],
      "metadata": {
        "id": "AHGRSuLdJ5WA"
      }
    },
    {
      "cell_type": "code",
      "source": [
        "tensor_4d = tf.constant([[[[1,2,5],[3,4,6]],[[5,6,7],[7,8,9]]],\n",
        " [[[9,8,7],[2,3,1]],[[10.2,0,-1],[7,4,9]]]])\n",
        "tensor_4d"
      ],
      "metadata": {
        "colab": {
          "base_uri": "https://localhost:8080/"
        },
        "id": "wDkvVkelKBSV",
        "outputId": "e276eba7-2964-4179-99cb-eb69355985a1"
      },
      "execution_count": 7,
      "outputs": [
        {
          "output_type": "execute_result",
          "data": {
            "text/plain": [
              "<tf.Tensor: shape=(2, 2, 2, 3), dtype=float32, numpy=\n",
              "array([[[[ 1. ,  2. ,  5. ],\n",
              "         [ 3. ,  4. ,  6. ]],\n",
              "\n",
              "        [[ 5. ,  6. ,  7. ],\n",
              "         [ 7. ,  8. ,  9. ]]],\n",
              "\n",
              "\n",
              "       [[[ 9. ,  8. ,  7. ],\n",
              "         [ 2. ,  3. ,  1. ]],\n",
              "\n",
              "        [[10.2,  0. , -1. ],\n",
              "         [ 7. ,  4. ,  9. ]]]], dtype=float32)>"
            ]
          },
          "metadata": {},
          "execution_count": 7
        }
      ]
    },
    {
      "cell_type": "markdown",
      "source": [
        "in base alla tipologia di applicazioni e alle risorse disponibili, si può eventualmente cambiare il formato dei dati (es. float16 vs float32 vs float64).<br> Vedi *documentazione Python* per verificare i tipi di dati disponibili)"
      ],
      "metadata": {
        "id": "I2NY3i_-LIYt"
      }
    },
    {
      "cell_type": "code",
      "source": [
        " # posso anche specificare nell'intestazioni la tipolgoia di dato che voglio)\n",
        "tensor_1d = tf.constant([1, -3, 0, 7, 2], dtype=tf.float32)\n",
        "# tensor_1d = tf.constant([1, -3, 0, 7, 2], dtype=tf.float16)\n",
        "tensor_1d"
      ],
      "metadata": {
        "colab": {
          "base_uri": "https://localhost:8080/"
        },
        "id": "wPXD4YGhKzPV",
        "outputId": "0bb35d7a-88d8-4b00-ebb2-41c8a652b96a"
      },
      "execution_count": 8,
      "outputs": [
        {
          "output_type": "execute_result",
          "data": {
            "text/plain": [
              "<tf.Tensor: shape=(5,), dtype=float32, numpy=array([ 1., -3.,  0.,  7.,  2.], dtype=float32)>"
            ]
          },
          "metadata": {},
          "execution_count": 8
        }
      ]
    },
    {
      "cell_type": "code",
      "source": [
        "# errore perché 0. è considerato un float\n",
        "tensor_1d = tf.constant([2, 0., -3, 8, 90], dtype=tf.int64)\n",
        "print(tensor_1d)"
      ],
      "metadata": {
        "id": "eaXE0VKL5c8Y",
        "outputId": "61c8d263-90f0-4e89-a048-3c032ab32ceb",
        "colab": {
          "base_uri": "https://localhost:8080/",
          "height": 373
        }
      },
      "execution_count": 11,
      "outputs": [
        {
          "output_type": "error",
          "ename": "TypeError",
          "evalue": "Cannot convert [2, 0.0, -3, 8, 90] to EagerTensor of dtype int64",
          "traceback": [
            "\u001b[0;31m---------------------------------------------------------------------------\u001b[0m",
            "\u001b[0;31mTypeError\u001b[0m                                 Traceback (most recent call last)",
            "\u001b[0;32m<ipython-input-11-5052d0176ca3>\u001b[0m in \u001b[0;36m<cell line: 0>\u001b[0;34m()\u001b[0m\n\u001b[0;32m----> 1\u001b[0;31m \u001b[0mtensor_1d\u001b[0m \u001b[0;34m=\u001b[0m \u001b[0mtf\u001b[0m\u001b[0;34m.\u001b[0m\u001b[0mconstant\u001b[0m\u001b[0;34m(\u001b[0m\u001b[0;34m[\u001b[0m\u001b[0;36m2\u001b[0m\u001b[0;34m,\u001b[0m \u001b[0;36m0.\u001b[0m\u001b[0;34m,\u001b[0m \u001b[0;34m-\u001b[0m\u001b[0;36m3\u001b[0m\u001b[0;34m,\u001b[0m \u001b[0;36m8\u001b[0m\u001b[0;34m,\u001b[0m \u001b[0;36m90\u001b[0m\u001b[0;34m]\u001b[0m\u001b[0;34m,\u001b[0m \u001b[0mdtype\u001b[0m\u001b[0;34m=\u001b[0m\u001b[0mtf\u001b[0m\u001b[0;34m.\u001b[0m\u001b[0mint64\u001b[0m\u001b[0;34m)\u001b[0m\u001b[0;34m\u001b[0m\u001b[0;34m\u001b[0m\u001b[0m\n\u001b[0m\u001b[1;32m      2\u001b[0m \u001b[0mprint\u001b[0m\u001b[0;34m(\u001b[0m\u001b[0mtensor_1d\u001b[0m\u001b[0;34m)\u001b[0m\u001b[0;34m\u001b[0m\u001b[0;34m\u001b[0m\u001b[0m\n\u001b[1;32m      3\u001b[0m \u001b[0;34m\u001b[0m\u001b[0m\n\u001b[1;32m      4\u001b[0m \u001b[0mtensor_1d\u001b[0m \u001b[0;34m=\u001b[0m \u001b[0mtf\u001b[0m\u001b[0;34m.\u001b[0m\u001b[0mconstant\u001b[0m\u001b[0;34m(\u001b[0m\u001b[0;34m[\u001b[0m\u001b[0;36m2\u001b[0m\u001b[0;34m,\u001b[0m \u001b[0;36m0.\u001b[0m\u001b[0;34m,\u001b[0m \u001b[0;34m-\u001b[0m\u001b[0;36m3\u001b[0m\u001b[0;34m,\u001b[0m \u001b[0;36m8\u001b[0m\u001b[0;34m,\u001b[0m \u001b[0;36m90\u001b[0m\u001b[0;34m]\u001b[0m\u001b[0;34m,\u001b[0m \u001b[0mdtype\u001b[0m\u001b[0;34m=\u001b[0m\u001b[0mtf\u001b[0m\u001b[0;34m.\u001b[0m\u001b[0mfloat64\u001b[0m\u001b[0;34m)\u001b[0m\u001b[0;34m\u001b[0m\u001b[0;34m\u001b[0m\u001b[0m\n\u001b[1;32m      5\u001b[0m \u001b[0mprint\u001b[0m\u001b[0;34m(\u001b[0m\u001b[0mtensor_1d\u001b[0m\u001b[0;34m)\u001b[0m\u001b[0;34m\u001b[0m\u001b[0;34m\u001b[0m\u001b[0m\n",
            "\u001b[0;32m/usr/local/lib/python3.11/dist-packages/tensorflow/python/ops/weak_tensor_ops.py\u001b[0m in \u001b[0;36mwrapper\u001b[0;34m(*args, **kwargs)\u001b[0m\n\u001b[1;32m    140\u001b[0m   \u001b[0;32mdef\u001b[0m \u001b[0mwrapper\u001b[0m\u001b[0;34m(\u001b[0m\u001b[0;34m*\u001b[0m\u001b[0margs\u001b[0m\u001b[0;34m,\u001b[0m \u001b[0;34m**\u001b[0m\u001b[0mkwargs\u001b[0m\u001b[0;34m)\u001b[0m\u001b[0;34m:\u001b[0m\u001b[0;34m\u001b[0m\u001b[0;34m\u001b[0m\u001b[0m\n\u001b[1;32m    141\u001b[0m     \u001b[0;32mif\u001b[0m \u001b[0;32mnot\u001b[0m \u001b[0mops\u001b[0m\u001b[0;34m.\u001b[0m\u001b[0mis_auto_dtype_conversion_enabled\u001b[0m\u001b[0;34m(\u001b[0m\u001b[0;34m)\u001b[0m\u001b[0;34m:\u001b[0m\u001b[0;34m\u001b[0m\u001b[0;34m\u001b[0m\u001b[0m\n\u001b[0;32m--> 142\u001b[0;31m       \u001b[0;32mreturn\u001b[0m \u001b[0mop\u001b[0m\u001b[0;34m(\u001b[0m\u001b[0;34m*\u001b[0m\u001b[0margs\u001b[0m\u001b[0;34m,\u001b[0m \u001b[0;34m**\u001b[0m\u001b[0mkwargs\u001b[0m\u001b[0;34m)\u001b[0m\u001b[0;34m\u001b[0m\u001b[0;34m\u001b[0m\u001b[0m\n\u001b[0m\u001b[1;32m    143\u001b[0m     \u001b[0mbound_arguments\u001b[0m \u001b[0;34m=\u001b[0m \u001b[0msignature\u001b[0m\u001b[0;34m.\u001b[0m\u001b[0mbind\u001b[0m\u001b[0;34m(\u001b[0m\u001b[0;34m*\u001b[0m\u001b[0margs\u001b[0m\u001b[0;34m,\u001b[0m \u001b[0;34m**\u001b[0m\u001b[0mkwargs\u001b[0m\u001b[0;34m)\u001b[0m\u001b[0;34m\u001b[0m\u001b[0;34m\u001b[0m\u001b[0m\n\u001b[1;32m    144\u001b[0m     \u001b[0mbound_arguments\u001b[0m\u001b[0;34m.\u001b[0m\u001b[0mapply_defaults\u001b[0m\u001b[0;34m(\u001b[0m\u001b[0;34m)\u001b[0m\u001b[0;34m\u001b[0m\u001b[0;34m\u001b[0m\u001b[0m\n",
            "\u001b[0;32m/usr/local/lib/python3.11/dist-packages/tensorflow/python/framework/constant_op.py\u001b[0m in \u001b[0;36mconstant\u001b[0;34m(value, dtype, shape, name)\u001b[0m\n\u001b[1;32m    274\u001b[0m     \u001b[0mValueError\u001b[0m\u001b[0;34m:\u001b[0m \u001b[0;32mif\u001b[0m \u001b[0mcalled\u001b[0m \u001b[0mon\u001b[0m \u001b[0ma\u001b[0m \u001b[0msymbolic\u001b[0m \u001b[0mtensor\u001b[0m\u001b[0;34m.\u001b[0m\u001b[0;34m\u001b[0m\u001b[0;34m\u001b[0m\u001b[0m\n\u001b[1;32m    275\u001b[0m   \"\"\"\n\u001b[0;32m--> 276\u001b[0;31m   return _constant_impl(value, dtype, shape, name, verify_shape=False,\n\u001b[0m\u001b[1;32m    277\u001b[0m                         allow_broadcast=True)\n\u001b[1;32m    278\u001b[0m \u001b[0;34m\u001b[0m\u001b[0m\n",
            "\u001b[0;32m/usr/local/lib/python3.11/dist-packages/tensorflow/python/framework/constant_op.py\u001b[0m in \u001b[0;36m_constant_impl\u001b[0;34m(value, dtype, shape, name, verify_shape, allow_broadcast)\u001b[0m\n\u001b[1;32m    287\u001b[0m       \u001b[0;32mwith\u001b[0m \u001b[0mtrace\u001b[0m\u001b[0;34m.\u001b[0m\u001b[0mTrace\u001b[0m\u001b[0;34m(\u001b[0m\u001b[0;34m\"tf.constant\"\u001b[0m\u001b[0;34m)\u001b[0m\u001b[0;34m:\u001b[0m\u001b[0;34m\u001b[0m\u001b[0;34m\u001b[0m\u001b[0m\n\u001b[1;32m    288\u001b[0m         \u001b[0;32mreturn\u001b[0m \u001b[0m_constant_eager_impl\u001b[0m\u001b[0;34m(\u001b[0m\u001b[0mctx\u001b[0m\u001b[0;34m,\u001b[0m \u001b[0mvalue\u001b[0m\u001b[0;34m,\u001b[0m \u001b[0mdtype\u001b[0m\u001b[0;34m,\u001b[0m \u001b[0mshape\u001b[0m\u001b[0;34m,\u001b[0m \u001b[0mverify_shape\u001b[0m\u001b[0;34m)\u001b[0m\u001b[0;34m\u001b[0m\u001b[0;34m\u001b[0m\u001b[0m\n\u001b[0;32m--> 289\u001b[0;31m     \u001b[0;32mreturn\u001b[0m \u001b[0m_constant_eager_impl\u001b[0m\u001b[0;34m(\u001b[0m\u001b[0mctx\u001b[0m\u001b[0;34m,\u001b[0m \u001b[0mvalue\u001b[0m\u001b[0;34m,\u001b[0m \u001b[0mdtype\u001b[0m\u001b[0;34m,\u001b[0m \u001b[0mshape\u001b[0m\u001b[0;34m,\u001b[0m \u001b[0mverify_shape\u001b[0m\u001b[0;34m)\u001b[0m\u001b[0;34m\u001b[0m\u001b[0;34m\u001b[0m\u001b[0m\n\u001b[0m\u001b[1;32m    290\u001b[0m \u001b[0;34m\u001b[0m\u001b[0m\n\u001b[1;32m    291\u001b[0m   const_tensor = ops._create_graph_constant(  # pylint: disable=protected-access\n",
            "\u001b[0;32m/usr/local/lib/python3.11/dist-packages/tensorflow/python/framework/constant_op.py\u001b[0m in \u001b[0;36m_constant_eager_impl\u001b[0;34m(ctx, value, dtype, shape, verify_shape)\u001b[0m\n\u001b[1;32m    299\u001b[0m ) -> ops._EagerTensorBase:\n\u001b[1;32m    300\u001b[0m   \u001b[0;34m\"\"\"Creates a constant on the current device.\"\"\"\u001b[0m\u001b[0;34m\u001b[0m\u001b[0;34m\u001b[0m\u001b[0m\n\u001b[0;32m--> 301\u001b[0;31m   \u001b[0mt\u001b[0m \u001b[0;34m=\u001b[0m \u001b[0mconvert_to_eager_tensor\u001b[0m\u001b[0;34m(\u001b[0m\u001b[0mvalue\u001b[0m\u001b[0;34m,\u001b[0m \u001b[0mctx\u001b[0m\u001b[0;34m,\u001b[0m \u001b[0mdtype\u001b[0m\u001b[0;34m)\u001b[0m\u001b[0;34m\u001b[0m\u001b[0;34m\u001b[0m\u001b[0m\n\u001b[0m\u001b[1;32m    302\u001b[0m   \u001b[0;32mif\u001b[0m \u001b[0mshape\u001b[0m \u001b[0;32mis\u001b[0m \u001b[0;32mNone\u001b[0m\u001b[0;34m:\u001b[0m\u001b[0;34m\u001b[0m\u001b[0;34m\u001b[0m\u001b[0m\n\u001b[1;32m    303\u001b[0m     \u001b[0;32mreturn\u001b[0m \u001b[0mt\u001b[0m\u001b[0;34m\u001b[0m\u001b[0;34m\u001b[0m\u001b[0m\n",
            "\u001b[0;32m/usr/local/lib/python3.11/dist-packages/tensorflow/python/framework/constant_op.py\u001b[0m in \u001b[0;36mconvert_to_eager_tensor\u001b[0;34m(value, ctx, dtype)\u001b[0m\n\u001b[1;32m    106\u001b[0m       \u001b[0mdtype\u001b[0m \u001b[0;34m=\u001b[0m \u001b[0mdtypes\u001b[0m\u001b[0;34m.\u001b[0m\u001b[0mas_dtype\u001b[0m\u001b[0;34m(\u001b[0m\u001b[0mdtype\u001b[0m\u001b[0;34m)\u001b[0m\u001b[0;34m.\u001b[0m\u001b[0mas_datatype_enum\u001b[0m\u001b[0;34m\u001b[0m\u001b[0;34m\u001b[0m\u001b[0m\n\u001b[1;32m    107\u001b[0m   \u001b[0mctx\u001b[0m\u001b[0;34m.\u001b[0m\u001b[0mensure_initialized\u001b[0m\u001b[0;34m(\u001b[0m\u001b[0;34m)\u001b[0m\u001b[0;34m\u001b[0m\u001b[0;34m\u001b[0m\u001b[0m\n\u001b[0;32m--> 108\u001b[0;31m   \u001b[0;32mreturn\u001b[0m \u001b[0mops\u001b[0m\u001b[0;34m.\u001b[0m\u001b[0mEagerTensor\u001b[0m\u001b[0;34m(\u001b[0m\u001b[0mvalue\u001b[0m\u001b[0;34m,\u001b[0m \u001b[0mctx\u001b[0m\u001b[0;34m.\u001b[0m\u001b[0mdevice_name\u001b[0m\u001b[0;34m,\u001b[0m \u001b[0mdtype\u001b[0m\u001b[0;34m)\u001b[0m\u001b[0;34m\u001b[0m\u001b[0;34m\u001b[0m\u001b[0m\n\u001b[0m\u001b[1;32m    109\u001b[0m \u001b[0;34m\u001b[0m\u001b[0m\n\u001b[1;32m    110\u001b[0m \u001b[0;34m\u001b[0m\u001b[0m\n",
            "\u001b[0;31mTypeError\u001b[0m: Cannot convert [2, 0.0, -3, 8, 90] to EagerTensor of dtype int64"
          ]
        }
      ]
    },
    {
      "cell_type": "code",
      "source": [
        "# no errore perché ho float come dtype\n",
        "tensor_1d = tf.constant([2, 0., -3, 8, 90], dtype=tf.float32)\n",
        "print(tensor_1d)\n",
        "\n",
        "# per avere numeri interi devo fare CASTING (può essere fatto con qualsiasi tipo\n",
        "# di dati --> es. se metto \"bool\" avrò True/False se numero è >0)\n",
        "tensor_1d_casted = tf.cast(tensor_1d, dtype=tf.int32)\n",
        "print(tensor_1d_casted)"
      ],
      "metadata": {
        "id": "MPDAyHg059du",
        "outputId": "78663207-b4ec-4c51-bf14-5ca9b5505a5e",
        "colab": {
          "base_uri": "https://localhost:8080/"
        }
      },
      "execution_count": 12,
      "outputs": [
        {
          "output_type": "stream",
          "name": "stdout",
          "text": [
            "tf.Tensor([ 2.  0. -3.  8. 90.], shape=(5,), dtype=float32)\n",
            "tf.Tensor([ 2  0 -3  8 90], shape=(5,), dtype=int32)\n"
          ]
        }
      ]
    },
    {
      "cell_type": "code",
      "source": [
        "# TENSORE BOOLEANO\n",
        "tensor_bool = tf.constant([True, False, True])\n",
        "print(tensor_bool)"
      ],
      "metadata": {
        "id": "agOl7dGd6aFS",
        "outputId": "21c34e68-63c2-418d-9349-d31617544e59",
        "colab": {
          "base_uri": "https://localhost:8080/"
        }
      },
      "execution_count": 13,
      "outputs": [
        {
          "output_type": "stream",
          "name": "stdout",
          "text": [
            "tf.Tensor([ True False  True], shape=(3,), dtype=bool)\n"
          ]
        }
      ]
    },
    {
      "cell_type": "code",
      "source": [
        "# TENSORE STRINGA\n",
        "tensor_string = tf.constant([\"ciao\", \"come\", \"stai\"])\n",
        "print(tensor_string)\n",
        "\n",
        "# stringhe sono precedute da \"b\", ovvero che sono immagazzinate come bytes,\n",
        "# stringhe grezze, senza codici unicode\n"
      ],
      "metadata": {
        "id": "Ij_xI2216xOf",
        "outputId": "06fad518-98f4-4bf6-dfd6-e9916f86c6b0",
        "colab": {
          "base_uri": "https://localhost:8080/"
        }
      },
      "execution_count": 14,
      "outputs": [
        {
          "output_type": "stream",
          "name": "stdout",
          "text": [
            "tf.Tensor([b'ciao' b'come' b'stai'], shape=(3,), dtype=string)\n"
          ]
        }
      ]
    },
    {
      "cell_type": "code",
      "source": [
        "import numpy as np"
      ],
      "metadata": {
        "id": "5u6RGMrV7V3A"
      },
      "execution_count": 16,
      "outputs": []
    },
    {
      "cell_type": "markdown",
      "source": [
        "##### Convert to tensor"
      ],
      "metadata": {
        "id": "KNFjtEqu7c0Y"
      }
    },
    {
      "cell_type": "code",
      "source": [
        "# convert_to_tensor method\n",
        "np_array = np.array([1,2,4])\n",
        "converted_tensor = tf.convert_to_tensor(np_array)\n",
        "print(converted_tensor)"
      ],
      "metadata": {
        "id": "sO2SYNZl7X-f",
        "outputId": "c170cbeb-5fc4-4b62-c3de-2e83a56847bb",
        "colab": {
          "base_uri": "https://localhost:8080/"
        }
      },
      "execution_count": 17,
      "outputs": [
        {
          "output_type": "stream",
          "name": "stdout",
          "text": [
            "tf.Tensor([1 2 4], shape=(3,), dtype=int64)\n"
          ]
        }
      ]
    },
    {
      "cell_type": "markdown",
      "source": [
        "##### Eye tensor (matrice identità)"
      ],
      "metadata": {
        "id": "1eafHLyp747g"
      }
    },
    {
      "cell_type": "code",
      "source": [
        "# EYE TENSOR --> matrice identità\n",
        "eye_tensor = tf.eye(\n",
        "    num_rows=5,\n",
        "    num_columns=None,  # None = matrice quadrata, altrimenti rettangolare\n",
        "    batch_shape=[2,],  # None = un solo tensore; altrimenti matrice 3-D\n",
        "    dtype=tf.dtypes.float32,  # definisco tipo di dato della matrice\n",
        "    name=None\n",
        ")\n",
        "print(2*eye_tensor)"
      ],
      "metadata": {
        "id": "x4xXX5Rk7xRu",
        "outputId": "35e326da-dc09-4c49-a464-622b392e910a",
        "colab": {
          "base_uri": "https://localhost:8080/"
        }
      },
      "execution_count": 22,
      "outputs": [
        {
          "output_type": "stream",
          "name": "stdout",
          "text": [
            "tf.Tensor(\n",
            "[[[2. 0. 0. 0. 0.]\n",
            "  [0. 2. 0. 0. 0.]\n",
            "  [0. 0. 2. 0. 0.]\n",
            "  [0. 0. 0. 2. 0.]\n",
            "  [0. 0. 0. 0. 2.]]\n",
            "\n",
            " [[2. 0. 0. 0. 0.]\n",
            "  [0. 2. 0. 0. 0.]\n",
            "  [0. 0. 2. 0. 0.]\n",
            "  [0. 0. 0. 2. 0.]\n",
            "  [0. 0. 0. 0. 2.]]], shape=(2, 5, 5), dtype=float32)\n"
          ]
        }
      ]
    },
    {
      "cell_type": "markdown",
      "source": [
        "##### Fill method"
      ],
      "metadata": {
        "id": "4IrFKfl_8cRy"
      }
    },
    {
      "cell_type": "code",
      "source": [
        "# FILL = crea tensore con lo stesso valore\n",
        "fill_tensor = tf.fill(\n",
        "      dims=[2,5,5],\n",
        "      value=2,\n",
        "      name=None\n",
        ")\n",
        "print(fill_tensor)"
      ],
      "metadata": {
        "id": "7OCBVVW77f1U",
        "outputId": "1d9b4b5d-25d5-4e98-8f29-b612fa49abae",
        "colab": {
          "base_uri": "https://localhost:8080/"
        }
      },
      "execution_count": 31,
      "outputs": [
        {
          "output_type": "stream",
          "name": "stdout",
          "text": [
            "tf.Tensor(\n",
            "[[[2 2 2 2 2]\n",
            "  [2 2 2 2 2]\n",
            "  [2 2 2 2 2]\n",
            "  [2 2 2 2 2]\n",
            "  [2 2 2 2 2]]\n",
            "\n",
            " [[2 2 2 2 2]\n",
            "  [2 2 2 2 2]\n",
            "  [2 2 2 2 2]\n",
            "  [2 2 2 2 2]\n",
            "  [2 2 2 2 2]]], shape=(2, 5, 5), dtype=int32)\n"
          ]
        }
      ]
    },
    {
      "cell_type": "markdown",
      "source": [
        "##### Ones method"
      ],
      "metadata": {
        "id": "SREMhtqq9RRu"
      }
    },
    {
      "cell_type": "code",
      "source": [
        "# METODO ONES = matrice di 1\n",
        "ones_tensor = tf.ones(\n",
        "      shape=[2,5,5],\n",
        "      dtype = tf.float32,\n",
        "      name=None\n",
        ")\n",
        "print(ones_tensor)"
      ],
      "metadata": {
        "id": "gltkUZCa9LNh",
        "outputId": "0d5aff8a-9eac-4327-bb50-7fc6991fbee3",
        "colab": {
          "base_uri": "https://localhost:8080/"
        }
      },
      "execution_count": 34,
      "outputs": [
        {
          "output_type": "stream",
          "name": "stdout",
          "text": [
            "tf.Tensor(\n",
            "[[[1. 1. 1. 1. 1.]\n",
            "  [1. 1. 1. 1. 1.]\n",
            "  [1. 1. 1. 1. 1.]\n",
            "  [1. 1. 1. 1. 1.]\n",
            "  [1. 1. 1. 1. 1.]]\n",
            "\n",
            " [[1. 1. 1. 1. 1.]\n",
            "  [1. 1. 1. 1. 1.]\n",
            "  [1. 1. 1. 1. 1.]\n",
            "  [1. 1. 1. 1. 1.]\n",
            "  [1. 1. 1. 1. 1.]]], shape=(2, 5, 5), dtype=float32)\n"
          ]
        }
      ]
    },
    {
      "cell_type": "code",
      "source": [
        "# ONES LIKE = tensore di 1 con stessa dimensione dell'input\n",
        "fill_ones_tensor = tf.ones_like(\n",
        "    input = fill_tensor,  # prende dimensioni di fill_tensor (5x5)\n",
        "    dtype=tf.int16,\n",
        "    name=None\n",
        ")\n",
        "print(fill_ones_tensor)\n"
      ],
      "metadata": {
        "id": "rzOZ0u5q9Sw1",
        "outputId": "6ab834c7-742b-4579-cda7-84c961e23a4c",
        "colab": {
          "base_uri": "https://localhost:8080/"
        }
      },
      "execution_count": 37,
      "outputs": [
        {
          "output_type": "stream",
          "name": "stdout",
          "text": [
            "tf.Tensor(\n",
            "[[[1 1 1 1 1]\n",
            "  [1 1 1 1 1]\n",
            "  [1 1 1 1 1]\n",
            "  [1 1 1 1 1]\n",
            "  [1 1 1 1 1]]\n",
            "\n",
            " [[1 1 1 1 1]\n",
            "  [1 1 1 1 1]\n",
            "  [1 1 1 1 1]\n",
            "  [1 1 1 1 1]\n",
            "  [1 1 1 1 1]]], shape=(2, 5, 5), dtype=int16)\n"
          ]
        }
      ]
    },
    {
      "cell_type": "markdown",
      "source": [
        "##### Zeros"
      ],
      "metadata": {
        "id": "xjIuEv_e9__9"
      }
    },
    {
      "cell_type": "code",
      "source": [
        "# METODO ZEROS = matrice di 0\n",
        "zeros_tensor = tf.zeros(\n",
        "      shape=[2,5,5],\n",
        "      # dtype = tf.float32,\n",
        "      dtype = tf.dtypes.float32,\n",
        "      name=None\n",
        ")\n",
        "print(zeros_tensor)"
      ],
      "metadata": {
        "id": "J_Pzra0d9_kH",
        "outputId": "ac314e17-5b36-41fc-bc0e-9e5df3b38279",
        "colab": {
          "base_uri": "https://localhost:8080/"
        }
      },
      "execution_count": 42,
      "outputs": [
        {
          "output_type": "stream",
          "name": "stdout",
          "text": [
            "tf.Tensor(\n",
            "[[[0. 0. 0. 0. 0.]\n",
            "  [0. 0. 0. 0. 0.]\n",
            "  [0. 0. 0. 0. 0.]\n",
            "  [0. 0. 0. 0. 0.]\n",
            "  [0. 0. 0. 0. 0.]]\n",
            "\n",
            " [[0. 0. 0. 0. 0.]\n",
            "  [0. 0. 0. 0. 0.]\n",
            "  [0. 0. 0. 0. 0.]\n",
            "  [0. 0. 0. 0. 0.]\n",
            "  [0. 0. 0. 0. 0.]]], shape=(2, 5, 5), dtype=float32)\n"
          ]
        }
      ]
    },
    {
      "cell_type": "markdown",
      "source": [
        "### -------------------------------------------------------------------"
      ],
      "metadata": {
        "id": "ATIr7bs1-Ob_"
      }
    },
    {
      "cell_type": "code",
      "source": [
        "# SHAPE = dimensioni tensore\n",
        "print(tensor_2d.shape)"
      ],
      "metadata": {
        "id": "f1YHmjnf-MHT",
        "outputId": "1b19fd9d-f87f-4c51-f4f0-aacadc154bc6",
        "colab": {
          "base_uri": "https://localhost:8080/"
        }
      },
      "execution_count": 39,
      "outputs": [
        {
          "output_type": "stream",
          "name": "stdout",
          "text": [
            "(4, 3)\n"
          ]
        }
      ]
    },
    {
      "cell_type": "code",
      "source": [
        "# RANK = rango matrice/tensore\n",
        "print(tf.rank(tensor_2d))"
      ],
      "metadata": {
        "id": "UHEzmiq4-VFD",
        "outputId": "31a4cb46-4f81-47c8-9462-9a872d5f25d8",
        "colab": {
          "base_uri": "https://localhost:8080/"
        }
      },
      "execution_count": 40,
      "outputs": [
        {
          "output_type": "stream",
          "name": "stdout",
          "text": [
            "tf.Tensor(2, shape=(), dtype=int32)\n"
          ]
        }
      ]
    },
    {
      "cell_type": "code",
      "source": [
        "# SIZE = numero elementi nel tensore (es. righe*colonne nel caso 2-D)\n",
        "print(tf.size(tensor_2d))\n",
        "print(tf.size(tensor_2d, out_type=tf.float32))# posso anche decidere formato dell'output"
      ],
      "metadata": {
        "id": "S6DGN7ai-oin",
        "outputId": "2478ceb8-facc-4cea-80b8-15be26e5a70d",
        "colab": {
          "base_uri": "https://localhost:8080/"
        }
      },
      "execution_count": 43,
      "outputs": [
        {
          "output_type": "stream",
          "name": "stdout",
          "text": [
            "tf.Tensor(12, shape=(), dtype=int32)\n",
            "tf.Tensor(12.0, shape=(), dtype=float32)\n"
          ]
        }
      ]
    },
    {
      "cell_type": "markdown",
      "source": [
        "##### Tensore random (tf.random)"
      ],
      "metadata": {
        "id": "g2m3LyBa_FRx"
      }
    },
    {
      "cell_type": "markdown",
      "source": [
        "Posso scgeliere da che distribuzione prenderla"
      ],
      "metadata": {
        "id": "KmwBFikZATW_"
      }
    },
    {
      "cell_type": "code",
      "source": [
        "# DISTRIBUZIONE NORMALE\n",
        "# scelgo parametri della distribuzione normale (media e dev. standard)\n",
        "# e dimensione del tensore\n",
        "random_tensor = tf.random.normal(\n",
        "    shape=(3,3),\n",
        "    mean=0.0,\n",
        "    stddev=1.0,\n",
        "    dtype=tf.dtypes.float32,\n",
        "    seed=None,\n",
        "    name=None\n",
        ")\n",
        "\n",
        "print(random_tensor)"
      ],
      "metadata": {
        "id": "TEw-NMNK_HL7",
        "outputId": "f363ff81-7098-4788-a885-bc559f4c4032",
        "colab": {
          "base_uri": "https://localhost:8080/"
        }
      },
      "execution_count": 48,
      "outputs": [
        {
          "output_type": "stream",
          "name": "stdout",
          "text": [
            "tf.Tensor(\n",
            "[[ 0.6934901  -0.71436554 -0.8947401 ]\n",
            " [-0.10563215 -1.4560245   0.5881198 ]\n",
            " [ 0.83072144  0.9920155  -0.34359917]], shape=(3, 3), dtype=float32)\n"
          ]
        }
      ]
    },
    {
      "cell_type": "code",
      "source": [
        "random_uniform_tensor = tf.random.uniform(\n",
        "    shape=(3,3),\n",
        "    minval=0,\n",
        "    maxval=8,   # None = 1 (oppure default)\n",
        "    dtype=tf.dtypes.float32,\n",
        "    seed=10,  #  SEED --> serve a creare risultati riproducibili in chiamate\n",
        "    name=None           #  multiple\n",
        ")\n",
        "print(random_uniform_tensor)\n",
        "# anche impostando seme risultati sono diversi"
      ],
      "metadata": {
        "id": "I9SerZylAXRW",
        "outputId": "dcf41340-950b-4104-b2c4-3e1db9a6189a",
        "colab": {
          "base_uri": "https://localhost:8080/"
        }
      },
      "execution_count": 54,
      "outputs": [
        {
          "output_type": "stream",
          "name": "stdout",
          "text": [
            "tf.Tensor(\n",
            "[[7.144147   0.44688606 5.1351995 ]\n",
            " [1.4417448  3.6194477  6.5432854 ]\n",
            " [5.2268915  4.364249   4.253787  ]], shape=(3, 3), dtype=float32)\n"
          ]
        }
      ]
    },
    {
      "cell_type": "code",
      "source": [
        "# per avere risultati deterministici al massimo, bisogna impostare i valori\n",
        "# globali del seed\n",
        "tf.random.set_seed(11)\n",
        "\n",
        "\n",
        "new_random_uniform_tensor = tf.random.uniform(\n",
        "    shape=(3,3),\n",
        "    minval=0,\n",
        "    maxval=8,   # None = 1 (oppure default)\n",
        "    dtype=tf.dtypes.float32,\n",
        "    seed=10,  #  SEED --> serve a creare risultati riproducibili in chiamate\n",
        "    name=None           #  multiple\n",
        ")\n",
        "print(new_random_uniform_tensor)"
      ],
      "metadata": {
        "id": "TYyFylM2BDcy",
        "outputId": "a257cc76-8126-4e1c-838e-50ffc12253df",
        "colab": {
          "base_uri": "https://localhost:8080/"
        }
      },
      "execution_count": 57,
      "outputs": [
        {
          "output_type": "stream",
          "name": "stdout",
          "text": [
            "tf.Tensor(\n",
            "[[5.63997    2.6964722  4.532753  ]\n",
            " [3.5593653  6.587965   1.2875919 ]\n",
            " [5.958709   7.620591   0.29762936]], shape=(3, 3), dtype=float32)\n"
          ]
        }
      ]
    },
    {
      "cell_type": "markdown",
      "source": [
        "### Tensor Indexing"
      ],
      "metadata": {
        "id": "YpNl7yEOBkYX"
      }
    },
    {
      "cell_type": "code",
      "source": [
        "tensor_indexed = tf.constant([1,5,2,18,0,-4])\n",
        "print(tensor_indexed)\n",
        "print(tensor_indexed[0:3]) # tensori 1-D trattati come array\n",
        "print(tensor_indexed[0:-2]) # tensori 1-D trattati come array"
      ],
      "metadata": {
        "id": "V4JSb1x_Bm7I",
        "outputId": "fba20ba8-ea7f-46cb-df51-fdc9b9d447db",
        "colab": {
          "base_uri": "https://localhost:8080/"
        }
      },
      "execution_count": 59,
      "outputs": [
        {
          "output_type": "stream",
          "name": "stdout",
          "text": [
            "tf.Tensor([ 1  5  2 18  0 -4], shape=(6,), dtype=int32)\n",
            "tf.Tensor([1 5 2], shape=(3,), dtype=int32)\n",
            "tf.Tensor([ 1  5  2 18], shape=(4,), dtype=int32)\n"
          ]
        }
      ]
    },
    {
      "cell_type": "code",
      "source": [
        "tensor_2d = tf.constant([[1,2,0],[0,4.1,-2],[2,3,8]])\n",
        "print(tensor_2d[0:3, 0:2])  # tratto tensore 2-D come matrice (riga , colonna)"
      ],
      "metadata": {
        "id": "epzFPIPKCFxv",
        "outputId": "09d34381-6fda-47be-fe77-3a08a644398e",
        "colab": {
          "base_uri": "https://localhost:8080/"
        }
      },
      "execution_count": 60,
      "outputs": [
        {
          "output_type": "stream",
          "name": "stdout",
          "text": [
            "tf.Tensor(\n",
            "[[1.  2. ]\n",
            " [0.  4.1]\n",
            " [2.  3. ]], shape=(3, 2), dtype=float32)\n"
          ]
        }
      ]
    },
    {
      "cell_type": "code",
      "source": [
        "tensor_3d = tf.constant([[[1,2,5],[3,4,6]],[[5,6,7],[7,8,9]]])\n",
        "print(tensor_3d[0:2, 1:3, 1:2]) # II riga e II colonna dei singoli tensori 2-D\n",
        "# prendo elemento specifico a caso\n",
        "print(tensor_3d[1, 1, 2])"
      ],
      "metadata": {
        "id": "XyMC2OrIDCMS",
        "outputId": "802b9a27-ddf3-4e87-d024-6cb1c761db0a",
        "colab": {
          "base_uri": "https://localhost:8080/"
        }
      },
      "execution_count": 64,
      "outputs": [
        {
          "output_type": "stream",
          "name": "stdout",
          "text": [
            "tf.Tensor(\n",
            "[[[4]]\n",
            "\n",
            " [[8]]], shape=(2, 1, 1), dtype=int32)\n",
            "tf.Tensor(9, shape=(), dtype=int32)\n"
          ]
        }
      ]
    },
    {
      "cell_type": "markdown",
      "source": [
        "### Math operations (tf.math)"
      ],
      "metadata": {
        "id": "oG-AWYtoECMz"
      }
    },
    {
      "cell_type": "code",
      "source": [
        "# VALORE ASSOLUTO\n",
        "x = tf.constant([[1,-2,3],[-4,5,-6]])\n",
        "x_abs = tf.math.abs(x)\n",
        "x_abs = tf.cast(x_abs, dtype=tf.float32)\n",
        "print(x_abs)"
      ],
      "metadata": {
        "id": "f44UQhv6EEIu",
        "outputId": "57633323-c87e-4e8e-9f77-0f0d0d20ff77",
        "colab": {
          "base_uri": "https://localhost:8080/"
        }
      },
      "execution_count": 74,
      "outputs": [
        {
          "output_type": "stream",
          "name": "stdout",
          "text": [
            "tf.Tensor(\n",
            "[[1. 2. 3.]\n",
            " [4. 5. 6.]], shape=(2, 3), dtype=float32)\n"
          ]
        }
      ]
    },
    {
      "cell_type": "code",
      "source": [
        "# VALORE ASSOLUTO NUMERI COMPLESSI (a + bj --> abs = sqrt(a^2 + b^2) )\n",
        "x_complex = tf.constant([(1+2j), (3+4j)])\n",
        "x_abs_complex = tf.math.abs(x_complex)\n",
        "print(x_abs_complex)"
      ],
      "metadata": {
        "id": "kq6_ciZcEipB",
        "outputId": "664ff9f6-e9d2-4a61-f47f-ab1208a4c1f1",
        "colab": {
          "base_uri": "https://localhost:8080/"
        }
      },
      "execution_count": 66,
      "outputs": [
        {
          "output_type": "stream",
          "name": "stdout",
          "text": [
            "tf.Tensor([2.23606798 5.        ], shape=(2,), dtype=float64)\n"
          ]
        }
      ]
    },
    {
      "cell_type": "code",
      "source": [
        "# RADICE QUADRATA\n",
        "# devo avere numeri float\n",
        "x_sqrt = tf.math.sqrt(x_abs) # math posso anche ometterlo\n",
        "print(x_sqrt)"
      ],
      "metadata": {
        "id": "RgLFiEnQE2br",
        "outputId": "a8fe413e-9054-4415-9bb8-c2a0db09abf6",
        "colab": {
          "base_uri": "https://localhost:8080/"
        }
      },
      "execution_count": 76,
      "outputs": [
        {
          "output_type": "stream",
          "name": "stdout",
          "text": [
            "tf.Tensor(\n",
            "[[1.        1.4142135 1.7320508]\n",
            " [2.        2.2360678 2.4494896]], shape=(2, 3), dtype=float32)\n"
          ]
        }
      ]
    },
    {
      "cell_type": "code",
      "source": [
        "# OPERAZIONI ARITMETICHE\n",
        "a = tf.constant([[1,2,5],[3,4,6]])\n",
        "b = tf.constant([[5,6,7],[7,8,9]])\n",
        "print(tf.add(a,b))\n",
        "print(tf.subtract(a,b))\n",
        "print(tf.multiply(a,b)) # prodotto elemento per elemento\n",
        "print(tf.divide(a,b))\n",
        "print(tf.math.pow(a,b))\n",
        "# print(tf.math.add(a,b))"
      ],
      "metadata": {
        "id": "joNO0Kf6Fgws",
        "outputId": "9c7a8d4b-89f6-4696-eded-48e3b413b661",
        "colab": {
          "base_uri": "https://localhost:8080/"
        }
      },
      "execution_count": 96,
      "outputs": [
        {
          "output_type": "stream",
          "name": "stdout",
          "text": [
            "tf.Tensor(\n",
            "[[ 6  8 12]\n",
            " [10 12 15]], shape=(2, 3), dtype=int32)\n",
            "tf.Tensor(\n",
            "[[-4 -4 -2]\n",
            " [-4 -4 -3]], shape=(2, 3), dtype=int32)\n",
            "tf.Tensor(\n",
            "[[ 5 12 35]\n",
            " [21 32 54]], shape=(2, 3), dtype=int32)\n",
            "tf.Tensor(\n",
            "[[0.2        0.33333333 0.71428571]\n",
            " [0.42857143 0.5        0.66666667]], shape=(2, 3), dtype=float64)\n",
            "tf.Tensor(\n",
            "[[       1       64    78125]\n",
            " [    2187    65536 10077696]], shape=(2, 3), dtype=int32)\n"
          ]
        }
      ]
    },
    {
      "cell_type": "code",
      "source": [
        "# DIVIDE NO NAN = consente divisione restituisce 0 se si divide per 0\n",
        "x_1 = tf.constant([1,2,5], dtype=tf.float32)\n",
        "x_2 = tf.constant([0,2,0], dtype=tf.float32)\n",
        "print(tf.math.divide_no_nan(x_1, x_2))"
      ],
      "metadata": {
        "id": "r90FjnW3F9nV",
        "outputId": "89c36ef1-36e2-4310-af4a-e9556b5b4412",
        "colab": {
          "base_uri": "https://localhost:8080/"
        }
      },
      "execution_count": 82,
      "outputs": [
        {
          "output_type": "stream",
          "name": "stdout",
          "text": [
            "tf.Tensor([0. 1. 0.], shape=(3,), dtype=float32)\n"
          ]
        }
      ]
    },
    {
      "cell_type": "markdown",
      "source": [
        "##### Broadcasting\n",
        "È importante che entrambi i tensori **abbiano almeno una dimensione unitaria** (non importa se riga/colonna)"
      ],
      "metadata": {
        "id": "FBsdZuYeG2oQ"
      }
    },
    {
      "cell_type": "code",
      "source": [
        "# ho tensore più piccolo che viene espanso a tutti gli altri elementi\n",
        "# del tensore più grande , effettuando operazioni di conseguenza\n",
        "\n",
        "x_1 = tf.constant([53,6,4,6], dtype = tf.float32)\n",
        "x_2 = tf.constant([2], dtype = tf.float32)\n",
        "print(tf.math.add(x_1, x_2))"
      ],
      "metadata": {
        "id": "tcFM1_8YGPmL",
        "outputId": "16149947-68ae-4a44-f955-874612450f20",
        "colab": {
          "base_uri": "https://localhost:8080/"
        }
      },
      "execution_count": 86,
      "outputs": [
        {
          "output_type": "stream",
          "name": "stdout",
          "text": [
            "tf.Tensor([55.  8.  6.  8.], shape=(4,), dtype=float32)\n"
          ]
        }
      ]
    },
    {
      "cell_type": "code",
      "source": [
        "x_1 = tf.constant([[5,4,3,2,6]], dtype = tf.float32)\n",
        "x_2 = tf.constant([[2], [2], [1]], dtype = tf.float32)\n",
        "print(tf.math.multiply(x_1, x_2))"
      ],
      "metadata": {
        "id": "8uINvUpiHbd4",
        "outputId": "3cb9108f-703b-4252-cea1-0c76f23e702f",
        "colab": {
          "base_uri": "https://localhost:8080/"
        }
      },
      "execution_count": 88,
      "outputs": [
        {
          "output_type": "stream",
          "name": "stdout",
          "text": [
            "tf.Tensor(\n",
            "[[10.  8.  6.  4. 12.]\n",
            " [10.  8.  6.  4. 12.]\n",
            " [ 5.  4.  3.  2.  6.]], shape=(3, 5), dtype=float32)\n"
          ]
        }
      ]
    },
    {
      "cell_type": "code",
      "source": [
        "# MAXIMUM = prendo valori massimi fra i 2 tensori nelle specifiche posizioni\n",
        "x_1 = tf.constant([[-2,4,3,2,6]], dtype = tf.float32)\n",
        "x_2 = tf.constant([[5,0,1,6,1]], dtype = tf.float32)\n",
        "print(tf.math.maximum(x_1, x_2))"
      ],
      "metadata": {
        "id": "x_9XXEh5H3yn",
        "outputId": "a59986a2-9b0a-4a45-cd74-0cb95ecde8ad",
        "colab": {
          "base_uri": "https://localhost:8080/"
        }
      },
      "execution_count": 90,
      "outputs": [
        {
          "output_type": "stream",
          "name": "stdout",
          "text": [
            "tf.Tensor([[5. 4. 3. 6. 6.]], shape=(1, 5), dtype=float32)\n"
          ]
        }
      ]
    },
    {
      "cell_type": "code",
      "source": [
        "# ARGMAX = indice del valore massimo di ogni riga/colonna\n",
        "x_argmax = tf.constant([[1,2,5],[3,4,6], [9,1,0]])\n",
        "print(tf.math.argmax(x_argmax, axis=1))  # prendo indice del massimo di ogni riga\n",
        "print(tf.math.argmax(x_argmax, axis=0))  # stesso per le colonne"
      ],
      "metadata": {
        "id": "i-ASi_bKIPGo",
        "outputId": "c020cd9b-324c-4a87-e681-3626907fbbca",
        "colab": {
          "base_uri": "https://localhost:8080/"
        }
      },
      "execution_count": 93,
      "outputs": [
        {
          "output_type": "stream",
          "name": "stdout",
          "text": [
            "tf.Tensor([2 2 0], shape=(3,), dtype=int64)\n",
            "tf.Tensor([2 1 1], shape=(3,), dtype=int64)\n"
          ]
        }
      ]
    },
    {
      "cell_type": "code",
      "source": [
        "# COMPARE = paragono due tensori, anche qua vale broadcasting\n",
        "# viene fatta uguaglianza elemento per elemento\n",
        "x = tf.constant([[1,5,1], [6,1,0], [0, 9, 5]])\n",
        "y = tf.constant([[1,5,1], [6,1,0], [0, 9, 5]])\n",
        "y_1 = tf.constant([[1,9,4], [6,7,2], [0, 8, 5]])\n",
        "\n",
        "print(tf.math.equal(x,y))\n",
        "print(tf.math.equal(x,y_1))"
      ],
      "metadata": {
        "id": "6q3GWHICJHxo",
        "outputId": "d8e4db7e-9bf0-43b9-e207-021bd6f5f87d",
        "colab": {
          "base_uri": "https://localhost:8080/"
        }
      },
      "execution_count": 95,
      "outputs": [
        {
          "output_type": "stream",
          "name": "stdout",
          "text": [
            "tf.Tensor(\n",
            "[[ True  True  True]\n",
            " [ True  True  True]\n",
            " [ True  True  True]], shape=(3, 3), dtype=bool)\n",
            "tf.Tensor(\n",
            "[[ True False False]\n",
            " [ True False False]\n",
            " [ True False  True]], shape=(3, 3), dtype=bool)\n"
          ]
        }
      ]
    },
    {
      "cell_type": "code",
      "source": [
        "# REDUCE SUM = somma di tutti gli elementi all'interno del tensore (senza\n",
        "# distinguere fra riga e colonna)\n",
        "input_tensor = tf.constant([[1,-5,5],[3,4,6]], dtype = tf.float32)\n",
        "print(tf.math.reduce_sum(input_tensor))\n",
        "# se specifico asse faccio somma per colonne (axis=0) o per righe (axis=1)\n",
        "# keepdims --> se True, faccio flattening del risultato, altrimenti mantengo\n",
        "#              le dimensioni originali e risultato è array con una riga/colonna\n",
        "#              di dimensione unitaria\n",
        "print(tf.math.reduce_sum(input_tensor, axis = 0, keepdims = True))\n",
        "print(tf.math.reduce_sum(input_tensor, axis = 1, keepdims = False))\n",
        "\n",
        "\n",
        "# REDUCE MAX/MIN = massimo/minimo globale della matrice\n",
        "print(tf.math.reduce_max(input_tensor))\n",
        "print(tf.math.reduce_min(input_tensor))\n",
        "# POSSO FARE ANCHE DEVIAZIONE STANDARD/MEDIA....\n",
        "print(tf.math.reduce_std(input_tensor))\n",
        "print(tf.math.reduce_mean(input_tensor))"
      ],
      "metadata": {
        "id": "4vISE6KvJyBa",
        "outputId": "017862cb-83ea-42ba-ded5-958bd016fd83",
        "colab": {
          "base_uri": "https://localhost:8080/"
        }
      },
      "execution_count": 105,
      "outputs": [
        {
          "output_type": "stream",
          "name": "stdout",
          "text": [
            "tf.Tensor(14.0, shape=(), dtype=float32)\n",
            "tf.Tensor([[ 4. -1. 11.]], shape=(1, 3), dtype=float32)\n",
            "tf.Tensor([ 1. 13.], shape=(2,), dtype=float32)\n",
            "tf.Tensor(6.0, shape=(), dtype=float32)\n",
            "tf.Tensor(-5.0, shape=(), dtype=float32)\n",
            "tf.Tensor(3.6362374, shape=(), dtype=float32)\n",
            "tf.Tensor(2.3333333, shape=(), dtype=float32)\n"
          ]
        }
      ]
    },
    {
      "cell_type": "markdown",
      "source": [
        "##### Top K\n",
        "prendo i K valori più grandi per ogni riga (ordinati in maniera decrescente di default)"
      ],
      "metadata": {
        "id": "FD1s0IYkLTjs"
      }
    },
    {
      "cell_type": "code",
      "source": [
        "tensor_2d = tf.constant([[1,2,0],[0,4.1,-2],[2,3,1]], dtype=tf.float32)\n",
        "# print(tf.math.top_k(tensor_2d, k=2, sorted=False)) # rimuovo ordinamento\n",
        "print(tf.math.top_k(tensor_2d, k=2))"
      ],
      "metadata": {
        "id": "_h3Sl4U-LdhQ",
        "outputId": "67f183d0-4661-4581-cede-9793aaf1acfb",
        "colab": {
          "base_uri": "https://localhost:8080/"
        }
      },
      "execution_count": 110,
      "outputs": [
        {
          "output_type": "stream",
          "name": "stdout",
          "text": [
            "TopKV2(values=<tf.Tensor: shape=(3, 2), dtype=float32, numpy=\n",
            "array([[2. , 1. ],\n",
            "       [4.1, 0. ],\n",
            "       [3. , 2. ]], dtype=float32)>, indices=<tf.Tensor: shape=(3, 2), dtype=int32, numpy=\n",
            "array([[1, 0],\n",
            "       [1, 0],\n",
            "       [1, 0]], dtype=int32)>)\n"
          ]
        }
      ]
    },
    {
      "cell_type": "markdown",
      "source": [
        "### Operazioni di algebra lineare (tf.linalg)\n"
      ],
      "metadata": {
        "id": "cz8MZgDyMOp8"
      }
    },
    {
      "cell_type": "code",
      "source": [
        "# MATMUL = moltiplicazione fra matrici\n",
        "# possibile solo se colonne I matrice = righe II matrice\n",
        "x_1 = tf.constant([[1,2,2], [4,0,1], [7, 0, 4]])\n",
        "x_2 = tf.constant([[7,1,6], [4,6,1], [7, 0, 4]])\n",
        "\n",
        "print(tf.linalg.matmul(x_1, x_2, transpose_a = False, transpose_b=True,\n",
        "                       a_is_sparse=False, b_is_sparse=False, adjoint_a=False,\n",
        "                       adjoint_b=False, output_type=None, name=None))\n",
        "print(x_1@x_2) # stesso risultato (nessuna trasposizione)"
      ],
      "metadata": {
        "id": "TO76NuPqMSN6",
        "outputId": "b50369b1-85fd-400e-d08a-65b2eaf9e156",
        "colab": {
          "base_uri": "https://localhost:8080/"
        }
      },
      "execution_count": 117,
      "outputs": [
        {
          "output_type": "stream",
          "name": "stdout",
          "text": [
            "tf.Tensor(\n",
            "[[21 18 15]\n",
            " [34 17 32]\n",
            " [73 32 65]], shape=(3, 3), dtype=int32)\n",
            "tf.Tensor(\n",
            "[[29 13 16]\n",
            " [35  4 28]\n",
            " [77  7 58]], shape=(3, 3), dtype=int32)\n"
          ]
        }
      ]
    },
    {
      "cell_type": "code",
      "source": [
        "# TRASPOSIZIONE\n",
        "print(x_1)\n",
        "print(tf.transpose(x_1))"
      ],
      "metadata": {
        "id": "o1zteGSyM3aG",
        "outputId": "b8b973b1-8fff-4732-89f8-0e8b31ec6dc0",
        "colab": {
          "base_uri": "https://localhost:8080/"
        }
      },
      "execution_count": 114,
      "outputs": [
        {
          "output_type": "stream",
          "name": "stdout",
          "text": [
            "tf.Tensor(\n",
            "[[1 2 2]\n",
            " [4 0 1]\n",
            " [7 0 4]], shape=(3, 3), dtype=int32)\n",
            "tf.Tensor(\n",
            "[[1 4 7]\n",
            " [2 0 0]\n",
            " [2 1 4]], shape=(3, 3), dtype=int32)\n"
          ]
        }
      ]
    },
    {
      "cell_type": "markdown",
      "source": [
        "##### Prodotto con matrici multidimensionali\n",
        "logica è moltiplicare la prima matrice del sottogruppo con la prima\n",
        "del sottogruppo dell'altra matrice, e così via con le altre"
      ],
      "metadata": {
        "id": "LN1SExVkN0GM"
      }
    },
    {
      "cell_type": "code",
      "source": [
        "x_1_3d = tf.constant([[[1,2,2], [4,0,1], [7, 0, 4]],\n",
        "                      [[1,2,2], [4,0,1], [7, 0, 4]],\n",
        "                      [[0,4,3], [1,1,1], [4,6,-2]]])\n",
        "x_2_3d = tf.constant([[[7,1,6], [4,6,1], [7, 4, 4]],\n",
        "                      [[7,8,2], [4,3,7], [9, 1, 2]],\n",
        "                       [[9,6,2], [4,9,1], [7, 4, 2]]])\n",
        "\n",
        "print(x_1_3d@x_2_3d)"
      ],
      "metadata": {
        "id": "6IoP6sZJN3TB",
        "outputId": "c4cdc52d-114b-4bb6-c7e1-5369399b1483",
        "colab": {
          "base_uri": "https://localhost:8080/"
        }
      },
      "execution_count": 118,
      "outputs": [
        {
          "output_type": "stream",
          "name": "stdout",
          "text": [
            "tf.Tensor(\n",
            "[[[29 21 16]\n",
            "  [35  8 28]\n",
            "  [77 23 58]]\n",
            "\n",
            " [[33 16 20]\n",
            "  [37 33 10]\n",
            "  [85 60 22]]\n",
            "\n",
            " [[37 48 10]\n",
            "  [20 19  5]\n",
            "  [46 70 10]]], shape=(3, 3, 3), dtype=int32)\n"
          ]
        }
      ]
    },
    {
      "cell_type": "markdown",
      "source": [
        "### Sparse tensors"
      ],
      "metadata": {
        "id": "2avGu9orPcTK"
      }
    },
    {
      "cell_type": "markdown",
      "source": [
        "se viene specificato che tensore è sparso (maggioranza elementi 0), Tensorflow lo sa e dunque ottimizza i calcoli apposta per questa categoria di matrici (che altrimenti richiederebbe troppe risorse inutili in eccesso)"
      ],
      "metadata": {
        "id": "D6R2aogUPKyi"
      }
    },
    {
      "cell_type": "code",
      "source": [],
      "metadata": {
        "id": "PO9negmQPZT8"
      },
      "execution_count": null,
      "outputs": []
    }
  ]
}