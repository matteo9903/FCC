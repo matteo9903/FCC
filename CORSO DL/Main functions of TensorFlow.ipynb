{
  "nbformat": 4,
  "nbformat_minor": 0,
  "metadata": {
    "colab": {
      "provenance": [],
      "authorship_tag": "ABX9TyPfLEf71lgvYCG3g6I/rks5",
      "include_colab_link": true
    },
    "kernelspec": {
      "name": "python3",
      "display_name": "Python 3"
    },
    "language_info": {
      "name": "python"
    }
  },
  "cells": [
    {
      "cell_type": "markdown",
      "metadata": {
        "id": "view-in-github",
        "colab_type": "text"
      },
      "source": [
        "<a href=\"https://colab.research.google.com/github/matteo9903/FCC/blob/main/CORSO%20DL/Main%20functions%20of%20TensorFlow.ipynb\" target=\"_parent\"><img src=\"https://colab.research.google.com/assets/colab-badge.svg\" alt=\"Open In Colab\"/></a>"
      ]
    },
    {
      "cell_type": "markdown",
      "source": [
        "### Main TensorFlow functions"
      ],
      "metadata": {
        "id": "FGjf8kFvucD3"
      }
    },
    {
      "cell_type": "code",
      "source": [
        "import tensorflow as tf"
      ],
      "metadata": {
        "id": "6daGjy75uwWN"
      },
      "execution_count": 2,
      "outputs": []
    },
    {
      "cell_type": "code",
      "source": [
        "X = tf.constant(\n",
        "    [[1,5,6],\n",
        "     [4,8,9],\n",
        "     [1,0,5]]\n",
        ")"
      ],
      "metadata": {
        "id": "rC31QhA9ugTv"
      },
      "execution_count": 6,
      "outputs": []
    },
    {
      "cell_type": "code",
      "source": [
        " #### EXPAND DIMS\n",
        " # aggiungo dimensione unitaria extra\n",
        " # axis --> specifico in che dimensione la voglio inserire (0 a N_dims)\n",
        " # ------------------------------------------\n",
        "X_expanded = tf.expand_dims(X, axis=1)\n",
        "X_expanded\n",
        "# (3,3) --> (1,3,3)"
      ],
      "metadata": {
        "id": "FU6kC4vzvAlu",
        "outputId": "9ffa9145-4aae-4f98-d030-3d78dd298570",
        "colab": {
          "base_uri": "https://localhost:8080/"
        }
      },
      "execution_count": 15,
      "outputs": [
        {
          "output_type": "execute_result",
          "data": {
            "text/plain": [
              "<tf.Tensor: shape=(3, 1, 3), dtype=int32, numpy=\n",
              "array([[[1, 5, 6]],\n",
              "\n",
              "       [[4, 8, 9]],\n",
              "\n",
              "       [[1, 0, 5]]], dtype=int32)>"
            ]
          },
          "metadata": {},
          "execution_count": 15
        }
      ]
    },
    {
      "cell_type": "code",
      "source": [
        " #### SQUEEZE DIMS\n",
        " # rimuovo dimensione unitaria extra\n",
        " # axis --> specifico in che dimensione la voglio rimuovere (0 a N_dims)\n",
        " # ------------------------------------------\n",
        "tf.squeeze(X_expanded, axis=0)\n",
        " # (1,3,3) -> (3,3)"
      ],
      "metadata": {
        "id": "kI6Mhg5svkVT",
        "outputId": "44791f1e-44af-48bc-cfee-03006c97cb9a",
        "colab": {
          "base_uri": "https://localhost:8080/"
        }
      },
      "execution_count": 11,
      "outputs": [
        {
          "output_type": "execute_result",
          "data": {
            "text/plain": [
              "<tf.Tensor: shape=(3, 3), dtype=int32, numpy=\n",
              "array([[1, 5, 6],\n",
              "       [4, 8, 9],\n",
              "       [1, 0, 5]], dtype=int32)>"
            ]
          },
          "metadata": {},
          "execution_count": 11
        }
      ]
    },
    {
      "cell_type": "code",
      "source": [
        "tf.expand_dims(X, axis=1)\n",
        "# (3,3) --> (1,3,3)  axis = 0\n",
        "# (3,3) --> (3,1,3)  axis = 1\n",
        "# (3,3) --> (3,3,1)  axis = 2\n"
      ],
      "metadata": {
        "id": "xytR4FTpwbtm",
        "outputId": "f0264a84-668d-4342-f4b0-a253f729ca92",
        "colab": {
          "base_uri": "https://localhost:8080/"
        }
      },
      "execution_count": 18,
      "outputs": [
        {
          "output_type": "execute_result",
          "data": {
            "text/plain": [
              "<tf.Tensor: shape=(3, 1, 3), dtype=int32, numpy=\n",
              "array([[[1, 5, 6]],\n",
              "\n",
              "       [[4, 8, 9]],\n",
              "\n",
              "       [[1, 0, 5]]], dtype=int32)>"
            ]
          },
          "metadata": {},
          "execution_count": 18
        }
      ]
    },
    {
      "cell_type": "code",
      "source": [
        "#### RESHAPE\n",
        "# modifico dimensione tensore\n",
        "# !! DEVONO ESSERE VALORI AMMISSIBILI PER LE DIM DELLA MATRICE !!\n",
        "# ------------------------------------------\n",
        "print(tf.reshape(X_expanded, shape=(3,3)))  # può fungere da squeeze\n",
        "\n",
        "print(\"---------------------------------\")\n",
        "# flattening della matrice (3x3 = 9)\n",
        "print(tf.reshape(X_expanded, shape=(1,9)))\n",
        "# flattening della matrice (3x3 = 9) (solo vettore), -1 è riconosciuto come 9\n",
        "print(tf.reshape(X_expanded, shape=(-1)))\n",
        "print(\"---------------------------------\")\n",
        "A = tf.constant([[2,3,1,0], [4,5,6,7]])\n",
        "# se matrice non quadrata, invertire dimensioni genera la trasposta\n",
        "print(tf.reshape(A, shape=(4,2)))\n",
        "# mettere -1 è uguale perché è l'ultima colonna\n",
        "print(tf.reshape(A, shape=(4,-1)))\n"
      ],
      "metadata": {
        "id": "HLFOfTi4ww3Z",
        "outputId": "94186fa1-84ae-434b-c7ed-40c60f076fbb",
        "colab": {
          "base_uri": "https://localhost:8080/"
        }
      },
      "execution_count": 24,
      "outputs": [
        {
          "output_type": "stream",
          "name": "stdout",
          "text": [
            "tf.Tensor(\n",
            "[[1 5 6]\n",
            " [4 8 9]\n",
            " [1 0 5]], shape=(3, 3), dtype=int32)\n",
            "---------------------------------\n",
            "tf.Tensor([[1 5 6 4 8 9 1 0 5]], shape=(1, 9), dtype=int32)\n",
            "tf.Tensor([1 5 6 4 8 9 1 0 5], shape=(9,), dtype=int32)\n",
            "---------------------------------\n",
            "tf.Tensor(\n",
            "[[2 3]\n",
            " [1 0]\n",
            " [4 5]\n",
            " [6 7]], shape=(4, 2), dtype=int32)\n",
            "tf.Tensor(\n",
            "[[2 3]\n",
            " [1 0]\n",
            " [4 5]\n",
            " [6 7]], shape=(4, 2), dtype=int32)\n"
          ]
        }
      ]
    },
    {
      "cell_type": "code",
      "source": [],
      "metadata": {
        "id": "HavOCP2kxXrC"
      },
      "execution_count": null,
      "outputs": []
    }
  ]
}